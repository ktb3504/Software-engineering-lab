{
  "nbformat": 4,
  "nbformat_minor": 0,
  "metadata": {
    "colab": {
      "provenance": [],
      "authorship_tag": "ABX9TyN3x5iUzWW8U9UBN812mGnX",
      "include_colab_link": true
    },
    "kernelspec": {
      "name": "python3",
      "display_name": "Python 3"
    },
    "language_info": {
      "name": "python"
    }
  },
  "cells": [
    {
      "cell_type": "markdown",
      "metadata": {
        "id": "view-in-github",
        "colab_type": "text"
      },
      "source": [
        "<a href=\"https://colab.research.google.com/github/ktb3504/Software-engineering-lab/blob/main/Iterative_model.ipynb\" target=\"_parent\"><img src=\"https://colab.research.google.com/assets/colab-badge.svg\" alt=\"Open In Colab\"/></a>"
      ]
    },
    {
      "cell_type": "code",
      "execution_count": 1,
      "metadata": {
        "colab": {
          "base_uri": "https://localhost:8080/"
        },
        "id": "40ofJWKNnIGo",
        "outputId": "0ed0a1fc-e912-486e-eca4-200206add750"
      },
      "outputs": [
        {
          "output_type": "stream",
          "name": "stdout",
          "text": [
            "Enter the temperature: 15\n",
            "Enter the humidity (in percentage): 80\n",
            "The result of the calculation is: 90.56\n",
            "The weather is Sunny\n"
          ]
        }
      ],
      "source": [
        "def calculate_weather_result(temperature, humidity):\n",
        "    if not (0 <= humidity <= 100):\n",
        "        raise ValueError(\"Humidity should be between 0 and 100 percent.\")\n",
        "    return (0.5 * (temperature ** 2) - 0.2 * humidity - 15) / 0.9\n",
        "\n",
        "\n",
        "def classify_weather(result):\n",
        "    if result > 30:\n",
        "        return \"The weather is Sunny\"\n",
        "    elif 10 <= result <= 30:\n",
        "        return \"The weather is Windy\"\n",
        "    else:\n",
        "        return \"The weather is Rainy\"\n",
        "\n",
        "\n",
        "def main():\n",
        "    try:\n",
        "        temperature = float(input(\"Enter the temperature: \"))\n",
        "        humidity = float(input(\"Enter the humidity (in percentage): \"))\n",
        "        result = calculate_weather_result(temperature, humidity)\n",
        "        weather = classify_weather(result)\n",
        "        print(f\"The result of the calculation is: {result:.2f}\")\n",
        "        print(f\"{weather}\")\n",
        "    except ValueError as e:\n",
        "        print(f\"Error: {e}\")\n",
        "\n",
        "\n",
        "if __name__ == \"__main__\":\n",
        "    main()\n"
      ]
    }
  ]
}