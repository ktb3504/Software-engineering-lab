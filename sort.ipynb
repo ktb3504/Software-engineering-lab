{
  "cells": [
    {
      "cell_type": "markdown",
      "metadata": {
        "id": "view-in-github",
        "colab_type": "text"
      },
      "source": [
        "<a href=\"https://colab.research.google.com/github/ktb3504/Software-engineering-lab/blob/main/sort.ipynb\" target=\"_parent\"><img src=\"https://colab.research.google.com/assets/colab-badge.svg\" alt=\"Open In Colab\"/></a>"
      ]
    },
    {
      "cell_type": "code",
      "execution_count": null,
      "metadata": {
        "colab": {
          "base_uri": "https://localhost:8080/"
        },
        "id": "Kr_h2kmBHkbI",
        "outputId": "e285b521-2b1c-4016-b058-33503df4bde2"
      },
      "outputs": [
        {
          "name": "stdout",
          "output_type": "stream",
          "text": [
            "Overwriting samp.cpp\n"
          ]
        }
      ],
      "source": [
        "%%file samp.cpp\n",
        "#include <stdio.h>\n",
        "int main()\n",
        "{\n",
        "    printf(\"Hello World\");\n",
        "    return 0;\n",
        "}"
      ]
    },
    {
      "cell_type": "code",
      "execution_count": null,
      "metadata": {
        "colab": {
          "base_uri": "https://localhost:8080/"
        },
        "id": "vLkWkyB2HoQr",
        "outputId": "561170e1-c286-4959-c0a5-1d6f89e09eca"
      },
      "outputs": [
        {
          "name": "stdout",
          "output_type": "stream",
          "text": [
            "Hello World"
          ]
        }
      ],
      "source": [
        "!g++ samp.cpp\n",
        "!./a.out"
      ]
    },
    {
      "cell_type": "code",
      "execution_count": null,
      "metadata": {
        "colab": {
          "base_uri": "https://localhost:8080/"
        },
        "id": "zlWvx5rtIjoh",
        "outputId": "6f487eb3-bb05-4232-e328-967105e32111"
      },
      "outputs": [
        {
          "name": "stdout",
          "output_type": "stream",
          "text": [
            "Overwriting samp.cpp\n"
          ]
        }
      ],
      "source": [
        "%%file samp.cpp\n",
        "#include <stdio.h>\n",
        "int main()\n",
        "{\n",
        "    int a[10], i;\n",
        "    for (i = 0; i<se)\n",
        "}"
      ]
    },
    {
      "cell_type": "code",
      "execution_count": null,
      "metadata": {
        "colab": {
          "base_uri": "https://localhost:8080/"
        },
        "id": "SHq1qpnvIxHR",
        "outputId": "886e3ccd-d142-4395-8fcc-48c76abcc679"
      },
      "outputs": [
        {
          "name": "stdout",
          "output_type": "stream",
          "text": [
            "Overwriting samp.cpp\n"
          ]
        }
      ],
      "source": [
        "%%file samp.cpp\n",
        "#include <stdio.h>\n",
        "int main()\n",
        "{\n",
        "    int start=4;\n",
        "    int end=8;\n",
        "    int count=0;\n",
        "    int i;\n",
        "    scanf(\"%d\", &start);\n",
        "    for (start; start<=end; start++)\n",
        "    {\n",
        "        for (i = 2; i<= start/2; i++)\n",
        "        {\n",
        "            if (start % i == 0)\n",
        "            count++;\n",
        "            {\n",
        "                if (count > 1)\n",
        "                  printf(\"%d\", &i);\n",
        "            }\n",
        "        }\n",
        "    }\n",
        "    return 0;\n",
        "}"
      ]
    },
    {
      "cell_type": "code",
      "execution_count": null,
      "metadata": {
        "colab": {
          "background_save": true
        },
        "id": "8ROfPVqAF8gJ",
        "outputId": "2b0a3eb9-1efb-47b8-9edf-85bbb6d86750"
      },
      "outputs": [
        {
          "name": "stdout",
          "output_type": "stream",
          "text": [
            "\u001b[01m\u001b[Ksamp.cpp:\u001b[m\u001b[K In function ‘\u001b[01m\u001b[Kint main()\u001b[m\u001b[K’:\n",
            "\u001b[01m\u001b[Ksamp.cpp:17:28:\u001b[m\u001b[K \u001b[01;35m\u001b[Kwarning: \u001b[m\u001b[Kformat ‘\u001b[01m\u001b[K%d\u001b[m\u001b[K’ expects argument of type ‘\u001b[01m\u001b[Kint\u001b[m\u001b[K’, but argument 2 has type ‘\u001b[01m\u001b[Kint*\u001b[m\u001b[K’ [\u001b[01;35m\u001b[K-Wformat=\u001b[m\u001b[K]\n",
            "   17 |                   printf(\"\u001b[01;35m\u001b[K%d\u001b[m\u001b[K\", \u001b[32m\u001b[K&i\u001b[m\u001b[K);\n",
            "      |                           \u001b[01;35m\u001b[K~^\u001b[m\u001b[K   \u001b[32m\u001b[K~~\u001b[m\u001b[K\n",
            "      |                            \u001b[01;35m\u001b[K|\u001b[m\u001b[K   \u001b[32m\u001b[K|\u001b[m\u001b[K\n",
            "      |                            \u001b[01;35m\u001b[Kint\u001b[m\u001b[K \u001b[32m\u001b[Kint*\u001b[m\u001b[K\n",
            "      |                           \u001b[32m\u001b[K%n\u001b[m\u001b[K\n"
          ]
        }
      ],
      "source": [
        "!g++ samp.cpp\n",
        "!./a.out"
      ]
    },
    {
      "cell_type": "code",
      "execution_count": null,
      "metadata": {
        "colab": {
          "base_uri": "https://localhost:8080/"
        },
        "id": "mjsiWkUkGCdF",
        "outputId": "2bb730f1-0ebd-498a-bb5b-1c06a6abe8af"
      },
      "outputs": [
        {
          "name": "stdout",
          "output_type": "stream",
          "text": [
            "Writing samp.cpp\n"
          ]
        }
      ],
      "source": [
        "%%file samp.cpp\n",
        "#include <stdio.h>\n",
        "int main()\n",
        "{\n",
        "    int i, count = 10, j;\n",
        "}"
      ]
    },
    {
      "cell_type": "code",
      "execution_count": null,
      "metadata": {
        "id": "jztFpwPZFBIU"
      },
      "outputs": [],
      "source": [
        "!g++ samp.cpp\n",
        "!./a.out"
      ]
    },
    {
      "cell_type": "code",
      "execution_count": null,
      "metadata": {
        "colab": {
          "base_uri": "https://localhost:8080/"
        },
        "id": "qSdTIXkdFDSl",
        "outputId": "cb4933f5-3fb9-47bf-c48f-0072ed9bb9de"
      },
      "outputs": [
        {
          "name": "stdout",
          "output_type": "stream",
          "text": [
            "Writing samp.cpp\n"
          ]
        }
      ],
      "source": [
        "%%file samp.cpp\n",
        "#include <stdio.h>\n",
        "int main()\n",
        "{\n",
        "    int a;\n",
        "    scanf(\"%d\", &a);\n",
        "    printf(\"%d\", a);\n",
        "}"
      ]
    },
    {
      "cell_type": "code",
      "execution_count": null,
      "metadata": {
        "colab": {
          "base_uri": "https://localhost:8080/"
        },
        "id": "87DTMMY9iWyj",
        "outputId": "cff44c4f-2773-492a-b529-cdae27f0f186"
      },
      "outputs": [
        {
          "name": "stdout",
          "output_type": "stream",
          "text": [
            "5\n",
            "5"
          ]
        }
      ],
      "source": [
        "!g++ samp.cpp\n",
        "!./a.out"
      ]
    },
    {
      "cell_type": "code",
      "execution_count": null,
      "metadata": {
        "colab": {
          "base_uri": "https://localhost:8080/"
        },
        "id": "x31E5Z6mia56",
        "outputId": "24533ef1-9e03-475c-f009-76c6453686f4"
      },
      "outputs": [
        {
          "name": "stdout",
          "output_type": "stream",
          "text": [
            "Overwriting samp.cpp\n"
          ]
        }
      ],
      "source": [
        "%%file samp.cpp\n",
        "#include <stdio.h>\n",
        "int main()\n",
        "{\n",
        "    int a, i;\n",
        "    for (i=1; i<=2; i++)\n",
        "    {\n",
        "        scanf(\"%d\", &a);\n",
        "    }\n",
        "}"
      ]
    },
    {
      "cell_type": "code",
      "execution_count": null,
      "metadata": {
        "colab": {
          "base_uri": "https://localhost:8080/"
        },
        "id": "l07EyxA9in5r",
        "outputId": "bd1436a1-c495-4d34-d380-6da801bfda8d"
      },
      "outputs": [
        {
          "name": "stdout",
          "output_type": "stream",
          "text": [
            "2\n",
            "3\n"
          ]
        }
      ],
      "source": [
        "!g++ samp.cpp\n",
        "!./a.out"
      ]
    },
    {
      "cell_type": "code",
      "execution_count": null,
      "metadata": {
        "colab": {
          "base_uri": "https://localhost:8080/"
        },
        "id": "3JeseSVzi2F9",
        "outputId": "f1e46065-dedc-44a6-f895-1c55ffe51333"
      },
      "outputs": [
        {
          "name": "stdout",
          "output_type": "stream",
          "text": [
            "Overwriting samp.cpp\n"
          ]
        }
      ],
      "source": [
        "%%file samp.cpp\n",
        "#include <stdio.h>\n",
        "int main()\n",
        "{\n",
        "    int a[10] = {10, 20}, i;\n",
        "    for (i=0; i<10; i++)\n",
        "    {\n",
        "        scanf(\"%d\", &a[i]);\n",
        "    }\n",
        "    while (i>=0)\n",
        "    {\n",
        "        printf(\"%d \", a[i]);\n",
        "        i--;\n",
        "    }\n",
        "}"
      ]
    },
    {
      "cell_type": "code",
      "execution_count": null,
      "metadata": {
        "colab": {
          "base_uri": "https://localhost:8080/"
        },
        "id": "wj9xKPSVquXl",
        "outputId": "87b2ffca-2099-461a-a214-dfaa692a6f0e"
      },
      "outputs": [
        {
          "name": "stdout",
          "output_type": "stream",
          "text": [
            "1\n",
            "2\n",
            "3\n",
            "4\n",
            "5\n",
            "6\n",
            "7\n",
            "8\n",
            "9\n",
            "10\n",
            "-2060926720 10 9 8 7 6 5 4 3 2 1 "
          ]
        }
      ],
      "source": [
        "!g++ samp.cpp\n",
        "!./a.out"
      ]
    },
    {
      "cell_type": "code",
      "execution_count": null,
      "metadata": {
        "colab": {
          "base_uri": "https://localhost:8080/"
        },
        "id": "YIbzW0a-rIIH",
        "outputId": "6f194eea-79ad-47d1-d796-7fabf717452a"
      },
      "outputs": [
        {
          "name": "stdout",
          "output_type": "stream",
          "text": [
            "Overwriting samp.cpp\n"
          ]
        }
      ],
      "source": [
        "%%file samp.cpp\n",
        "#include <stdio.h>\n",
        "int main()\n",
        "{\n",
        "    int i, n, a[100], flag = -1, search, pos;\n",
        "    printf(\"Enter the number of elements of the array\\n\");\n",
        "    scanf(\"%d\", &n);\n",
        "    for (i = 0; i<n; i++)\n",
        "    {\n",
        "        printf(\"Enter the elements of the array: \");\n",
        "        scanf(\"%d\", &a[i]);\n",
        "    }\n",
        "    printf(\"ENter search element\");\n",
        "    scanf(\"%d\", &search);\n",
        "    for (i = 0; i<n; i++)\n",
        "    {\n",
        "        if (a[i] == search)\n",
        "        {\n",
        "            flag = 1;\n",
        "            pos = i;\n",
        "            break;\n",
        "        }\n",
        "    }\n",
        "    if (flag == -1)\n",
        "    {\n",
        "         printf(\"Value not found\");\n",
        "    }\n",
        "    else\n",
        "    {\n",
        "        printf(\"value found at %d\", pos);\n",
        "    }\n",
        "}"
      ]
    },
    {
      "cell_type": "code",
      "execution_count": null,
      "metadata": {
        "colab": {
          "base_uri": "https://localhost:8080/"
        },
        "id": "cLftmwfcwjog",
        "outputId": "4ce2bae0-72d8-4186-cdd6-ee067ed9c9f5"
      },
      "outputs": [
        {
          "name": "stdout",
          "output_type": "stream",
          "text": [
            "Enter the number of elements of the array\n",
            "4\n",
            "Enter the elements of the array: 10\n",
            "Enter the elements of the array: 30\n",
            "Enter the elements of the array: 20\n",
            "Enter the elements of the array: 40\n",
            "The greatest number of the array is 40"
          ]
        }
      ],
      "source": [
        "!g++ samp.cpp\n",
        "!./a.out"
      ]
    },
    {
      "cell_type": "code",
      "execution_count": null,
      "metadata": {
        "colab": {
          "base_uri": "https://localhost:8080/"
        },
        "id": "rr9y4AGMwm9X",
        "outputId": "c4f10823-e7aa-4129-e9c9-d0bdac2f29ca"
      },
      "outputs": [
        {
          "name": "stdout",
          "output_type": "stream",
          "text": [
            "Overwriting samp.cpp\n"
          ]
        }
      ],
      "source": [
        "%%file samp.cpp\n",
        "#include <stdio.h>\n",
        "int main()\n",
        "{\n",
        "    int a[10], n = 3, i;\n",
        "    for (i = 1; i<n; i++)\n",
        "    {\n",
        "        scanf(\"%d\", &a[i]);\n",
        "        printf(\"%d \", a[i]);\n",
        "    }\n",
        "\n",
        "}"
      ]
    },
    {
      "cell_type": "code",
      "execution_count": null,
      "metadata": {
        "colab": {
          "base_uri": "https://localhost:8080/"
        },
        "id": "E5DwiBNLx64F",
        "outputId": "96771bcb-59ab-45c3-a12e-77455b207246"
      },
      "outputs": [
        {
          "name": "stdout",
          "output_type": "stream",
          "text": [
            "10\n",
            "10 20\n",
            "20 "
          ]
        }
      ],
      "source": [
        "!g++ samp.cpp\n",
        "!./a.out"
      ]
    },
    {
      "cell_type": "markdown",
      "metadata": {
        "id": "uWo0qZVNXiou"
      },
      "source": []
    },
    {
      "cell_type": "code",
      "execution_count": null,
      "metadata": {
        "colab": {
          "base_uri": "https://localhost:8080/"
        },
        "id": "jz-7H-Aax-5B",
        "outputId": "bcd53d96-5ca3-410e-84e1-9e1307fd8a69"
      },
      "outputs": [
        {
          "name": "stdout",
          "output_type": "stream",
          "text": [
            "Writing samp.cpp\n"
          ]
        }
      ],
      "source": [
        "%%file samp.cpp\n",
        "#include <stdio.h>\n",
        "int main()\n",
        "{\n",
        "    int a[5] = {10, 20, 30, 40, 50}, l, h, mid, search = 25, flag = -1;\n",
        "    l = 0;\n",
        "    h = 4;\n",
        "    mid = (l+h)/2;\n",
        "    while (l<=h)\n",
        "    {\n",
        "        if (search>a[mid])\n",
        "        {\n",
        "            l = mid+1 ;\n",
        "            mid = (l+h)/2;\n",
        "            printf(\"Inside if %d %d %d \", l, h,mid);\n",
        "        }\n",
        "        else if (search<a[mid])\n",
        "        {\n",
        "            h=mid -1;\n",
        "            mid = (l+h)/2;\n",
        "            printf(\"Inside else if %d %d \",l,h);\n",
        "        }\n",
        "        else if (a[mid] == search)\n",
        "        {\n",
        "            flag = 1;\n",
        "            printf(\"inside %d %d \", l,h);\n",
        "            break;\n",
        "        }\n",
        "    }\n",
        "    if (flag == -1)\n",
        "    {\n",
        "         printf(\"Value not found\");\n",
        "    }\n",
        "    else\n",
        "    {\n",
        "        printf(\"value found\");\n",
        "    }\n",
        "}"
      ]
    },
    {
      "cell_type": "code",
      "execution_count": null,
      "metadata": {
        "colab": {
          "base_uri": "https://localhost:8080/"
        },
        "id": "GrDp4TFMIUQ0",
        "outputId": "9dbc802b-94b6-4963-c630-69a0eeafde30"
      },
      "outputs": [
        {
          "name": "stdout",
          "output_type": "stream",
          "text": [
            "Inside else if 0 1 Inside if 1 1 1 Inside if 2 1 1 Value not found"
          ]
        }
      ],
      "source": [
        "!g++ samp.cpp\n",
        "!./a.out"
      ]
    },
    {
      "cell_type": "code",
      "execution_count": null,
      "metadata": {
        "colab": {
          "base_uri": "https://localhost:8080/"
        },
        "id": "X4l0oqKuIXRD",
        "outputId": "22fb5a72-3053-4394-c963-268b32792ff0"
      },
      "outputs": [
        {
          "name": "stdout",
          "output_type": "stream",
          "text": [
            "Overwriting samp.cpp\n"
          ]
        }
      ],
      "source": [
        "%%file samp.cpp\n",
        "#include <stdio.h>\n",
        "int main()\n",
        "{\n",
        "    int a[5] = {10, 20, 30, 40, 50}, search;\n",
        "    printf(\"%d\", a[5]);\n",
        "\n",
        "}"
      ]
    },
    {
      "cell_type": "code",
      "execution_count": null,
      "metadata": {
        "colab": {
          "base_uri": "https://localhost:8080/"
        },
        "id": "aOcA47IZR2W1",
        "outputId": "b7247fdd-a0dc-4878-bc81-a0d0aefb4813"
      },
      "outputs": [
        {
          "name": "stdout",
          "output_type": "stream",
          "text": [
            "32767"
          ]
        }
      ],
      "source": [
        "!g++ samp.cpp\n",
        "!./a.out"
      ]
    },
    {
      "cell_type": "code",
      "execution_count": null,
      "metadata": {
        "colab": {
          "base_uri": "https://localhost:8080/"
        },
        "id": "8Fbo_r7VR7F2",
        "outputId": "294652a4-4a95-451f-b707-5e5b095a5a1e"
      },
      "outputs": [
        {
          "name": "stdout",
          "output_type": "stream",
          "text": [
            "Overwriting samp.cpp\n"
          ]
        }
      ],
      "source": [
        "%%file samp.cpp\n",
        "#include <stdio.h>\n",
        "int main()\n",
        "{\n",
        "    int a[5] = {10, 20, 30, 40 ,50}, l = 0, h = 4, search = 40, mid, flag = -1, count = 0;\n",
        "    mid = (l+h)/2;\n",
        "    while (l<=h)\n",
        "    {\n",
        "        if (a[mid]>search)\n",
        "        {\n",
        "            h = mid-1;\n",
        "            mid = (l+h)/2;\n",
        "            count++;\n",
        "        }\n",
        "        else if (a[mid]<search)\n",
        "        {\n",
        "            l = mid + 1;\n",
        "            mid = (l+h)/2;\n",
        "            count++;\n",
        "        }\n",
        "        else if (a[mid]==search)\n",
        "        {\n",
        "            flag = 1;\n",
        "            count++;\n",
        "            break;\n",
        "        }\n",
        "    }\n",
        "    if (flag == 1)\n",
        "    {\n",
        "        printf(\"Value found, %d\", count);\n",
        "\n",
        "    }\n",
        "    else\n",
        "    {\n",
        "        printf(\"Value not found, %d\", count);\n",
        "    }\n",
        "}"
      ]
    },
    {
      "cell_type": "code",
      "execution_count": null,
      "metadata": {
        "colab": {
          "base_uri": "https://localhost:8080/"
        },
        "id": "fxhvHJkQ0daM",
        "outputId": "d925ac47-9090-4488-a0db-5e8492664954"
      },
      "outputs": [
        {
          "name": "stdout",
          "output_type": "stream",
          "text": [
            "Value found, 2"
          ]
        }
      ],
      "source": [
        "!g++ samp.cpp\n",
        "!./a.out"
      ]
    },
    {
      "cell_type": "code",
      "execution_count": null,
      "metadata": {
        "colab": {
          "base_uri": "https://localhost:8080/"
        },
        "id": "64KuJltY0rEj",
        "outputId": "02501920-a06f-485c-ec21-d02c4924bef6"
      },
      "outputs": [
        {
          "name": "stdout",
          "output_type": "stream",
          "text": [
            "Writing samp.cpp\n"
          ]
        }
      ],
      "source": [
        "%%file samp.cpp\n",
        "#include <stdio.h>\n",
        "int main()\n",
        "{\n",
        "    int a[5] = {30, 20, 80, 40, 50}, i, j, temp, smallest;\n",
        "    for (i = 0; i<4; i++)\n",
        "    {\n",
        "        smallest = i;\n",
        "\n",
        "        for (j = i+1; j<5; j++)\n",
        "        {\n",
        "            if (a[j]<a[smallest])\n",
        "            {\n",
        "                smallest = j;\n",
        "            }\n",
        "        }\n",
        "      if (smallest!=i)\n",
        "      {\n",
        "           temp = a[i];\n",
        "          a[i] = a[smallest];\n",
        "          a[smallest] = temp;\n",
        "      }\n",
        "    }\n",
        "    return 0;\n",
        "}"
      ]
    },
    {
      "cell_type": "code",
      "execution_count": null,
      "metadata": {
        "id": "rpeDpSFv5rxq"
      },
      "outputs": [],
      "source": [
        "!g++ samp.cpp\n",
        "!./a.out"
      ]
    },
    {
      "cell_type": "code",
      "execution_count": null,
      "metadata": {
        "colab": {
          "base_uri": "https://localhost:8080/"
        },
        "id": "6bEpCCHi4SL6",
        "outputId": "fa17a0f0-fa3f-4b09-844d-622ab99c4347"
      },
      "outputs": [
        {
          "name": "stdout",
          "output_type": "stream",
          "text": [
            "10 5\n"
          ]
        }
      ],
      "source": [
        "\n",
        "\n",
        "a = 5\n",
        "b = 10\n",
        "temp = b\n",
        "b = a\n",
        "a = temp\n",
        "print(a, b)"
      ]
    },
    {
      "cell_type": "code",
      "execution_count": null,
      "metadata": {
        "id": "iRSxUEU74mCi"
      },
      "outputs": [],
      "source": [
        "%%file samp.cpp\n",
        "#include <stdio.h>\n",
        "int main()\n",
        "{\n",
        "    int n;\n",
        "    scanf(\"%d\", &n);\n",
        "}"
      ]
    },
    {
      "cell_type": "code",
      "execution_count": null,
      "metadata": {
        "id": "3V29_S2lUBvz"
      },
      "outputs": [],
      "source": [
        "%%file samp.cpp\n",
        "#include <stdio.h>\n",
        "int main()\n",
        "{\n",
        "    int a[10], n, i, search, l, h, mid, flag = -1, count = 0;\n",
        "\n",
        "    scanf(\"%d\", &n);\n",
        "    for (i = 0; i<n; i++)\n",
        "    {\n",
        "        scanf(\"%d\", a[i]);\n",
        "    }\n",
        "\n",
        "    scanf(\"%d\", &search);\n",
        "\n",
        "    l = a[0];\n",
        "    h = a[n];\n",
        "    mid = (l+h)/2;\n",
        "\n",
        "    while (l<=h)\n",
        "    {\n",
        "        if (search>a[mid])\n",
        "        {\n",
        "            l = mid+1;\n",
        "            mid = (l+h)/2;\n",
        "        }\n",
        "        else if(search<a[mid])\n",
        "        {\n",
        "            h = mid-1;\n",
        "            mid = (l+h)/2;\n",
        "        }\n",
        "        else if(a[l] == search)\n",
        "        {\n",
        "            flag = 1;\n",
        "            break;\n",
        "        }\n",
        "    }\n",
        "}"
      ]
    },
    {
      "cell_type": "code",
      "execution_count": null,
      "metadata": {
        "colab": {
          "base_uri": "https://localhost:8080/"
        },
        "id": "yTI8IgBqNBcc",
        "outputId": "7c416b02-ebb4-4280-bd89-fa53be83e741"
      },
      "outputs": [
        {
          "name": "stdout",
          "output_type": "stream",
          "text": [
            "Overwriting samp.cpp\n"
          ]
        }
      ],
      "source": [
        "%%file samp.cpp\n",
        "#include <stdio.h>\n",
        "int main()\n",
        "{\n",
        "    int a[100] = {9, 1, 8, 2, 4}, N =5, i, j, temp, k;\n",
        "    for (i = 0; i<N-1; i++)\n",
        "    {\n",
        "        for (j = i+1; j<N; j++)\n",
        "        {\n",
        "            if (a[j]<a[i])\n",
        "            {\n",
        "                temp = a[j];\n",
        "                a[j] = a[i];\n",
        "                a[i] = temp;\n",
        "            }\n",
        "        }\n",
        "    }\n",
        "    for (k = 0; k<N; k++)\n",
        "        {\n",
        "            printf(\"%d \", a[k]);\n",
        "        }\n",
        "    return 0;\n",
        "}"
      ]
    },
    {
      "cell_type": "code",
      "execution_count": null,
      "metadata": {
        "colab": {
          "base_uri": "https://localhost:8080/"
        },
        "id": "3iPe8P19fShD",
        "outputId": "87718ea7-9d8c-44e2-e1f8-5e8e6ada8bb8"
      },
      "outputs": [
        {
          "name": "stdout",
          "output_type": "stream",
          "text": [
            "1 2 4 8 9 "
          ]
        }
      ],
      "source": [
        "!g++ samp.cpp\n",
        "!./a.out"
      ]
    },
    {
      "cell_type": "markdown",
      "metadata": {
        "id": "bYqtHMdGNBN7"
      },
      "source": []
    },
    {
      "cell_type": "markdown",
      "metadata": {
        "id": "lX18FYROCP5T"
      },
      "source": [
        "%d\n",
        "%f\n",
        "%c"
      ]
    },
    {
      "cell_type": "code",
      "execution_count": null,
      "metadata": {
        "colab": {
          "base_uri": "https://localhost:8080/"
        },
        "id": "3JdeuaY-BDo0",
        "outputId": "0cac9d53-8729-48f8-8756-ab1bc2d32ebe"
      },
      "outputs": [
        {
          "name": "stdout",
          "output_type": "stream",
          "text": [
            "Overwriting samp.cpp\n"
          ]
        }
      ],
      "source": [
        "%%file samp.cpp\n",
        "#include <stdio.h>\n",
        "int main()\n",
        "{\n",
        "    int a[100], N, i, j, smallest, temp;\n",
        "    printf(\"Enter the number of elements of the array: \");\n",
        "    scanf(\"%d\", &N);\n",
        "    for (i=0; i<N; i++)\n",
        "    {\n",
        "        printf(\"Enter the elements of the array: \");\n",
        "        scanf(\"%d\", &a[i]);\n",
        "    }\n",
        "    for (i=0; i<N-1; i++)\n",
        "    {\n",
        "        smallest = i;\n",
        "        for (j = i+1; j<N; j++)\n",
        "        {\n",
        "            if (a[j]<a[smallest])\n",
        "            {\n",
        "                smallest = j;\n",
        "            }\n",
        "        }\n",
        "        if (a[smallest] < a[i])\n",
        "        {\n",
        "            temp = a[i];\n",
        "            a[i] = a[smallest];\n",
        "            a[smallest] = temp;\n",
        "        }\n",
        "    }\n",
        "    printf(\"The above array after sorting: \");\n",
        "    for (i = 0; i<N; i++)\n",
        "    {\n",
        "        printf(\"%d \", a[i]);\n",
        "    }\n",
        "    return 0;\n",
        "}"
      ]
    },
    {
      "cell_type": "code",
      "execution_count": null,
      "metadata": {
        "colab": {
          "base_uri": "https://localhost:8080/"
        },
        "id": "CuB5E932PVbO",
        "outputId": "5f71caeb-25c2-4e2a-9222-4e0a437e98b0"
      },
      "outputs": [
        {
          "name": "stdout",
          "output_type": "stream",
          "text": [
            "Enter the number of elements of the array: 5\n",
            "Enter the elements of the array: 90\n",
            "Enter the elements of the array: 30\n",
            "Enter the elements of the array: 60\n",
            "Enter the elements of the array: 12\n",
            "Enter the elements of the array: 92\n",
            "The above array after sorting: 12 30 60 90 92 "
          ]
        }
      ],
      "source": [
        "!g++ samp.cpp\n",
        "!./a.out"
      ]
    },
    {
      "cell_type": "code",
      "execution_count": null,
      "metadata": {
        "colab": {
          "base_uri": "https://localhost:8080/"
        },
        "id": "Uabq7LDVPY6r",
        "outputId": "b86b24e3-3d4a-4a07-f45a-a1e38ba02ba2"
      },
      "outputs": [
        {
          "name": "stdout",
          "output_type": "stream",
          "text": [
            "Overwriting samp.cpp\n"
          ]
        }
      ],
      "source": [
        "%%file samp.cpp\n",
        "#include <stdio.h>\n",
        "int main()\n",
        "{\n",
        "  int arr[];\n",
        "  arr = {}\n",
        "\n",
        "\n",
        "}"
      ]
    },
    {
      "cell_type": "code",
      "execution_count": null,
      "metadata": {
        "id": "rd-V07EOZV07"
      },
      "outputs": [],
      "source": [
        "!g++ samp.cpp\n",
        "!./a.out"
      ]
    },
    {
      "cell_type": "code",
      "execution_count": null,
      "metadata": {
        "colab": {
          "base_uri": "https://localhost:8080/"
        },
        "id": "_g0tvt0VCngz",
        "outputId": "23eb655f-be62-441b-a185-b6c1e8bb9c39"
      },
      "outputs": [
        {
          "name": "stdout",
          "output_type": "stream",
          "text": [
            "10 20 50 80 90 \n"
          ]
        }
      ],
      "source": [
        "\n",
        "!g++ samp.cpp\n",
        "!./a.out"
      ]
    },
    {
      "cell_type": "code",
      "execution_count": null,
      "metadata": {
        "colab": {
          "base_uri": "https://localhost:8080/"
        },
        "id": "o3Z0vP5PCruy",
        "outputId": "d27b7996-724f-4d24-fc02-2fc155068794"
      },
      "outputs": [
        {
          "name": "stdout",
          "output_type": "stream",
          "text": [
            "Overwriting samp.cpp\n"
          ]
        }
      ],
      "source": [
        "%%file samp.cpp\n",
        "#include <stdio.h>\n",
        "int main()\n",
        "{\n",
        "    int i, j;\n",
        "    for (i = 0; i<6; i++)\n",
        "    {\n",
        "        for (j = 0; j<i; j++)\n",
        "        {\n",
        "            printf(\"*\");\n",
        "        }\n",
        "        printf(\"\\n\");\n",
        "    }\n",
        "}"
      ]
    },
    {
      "cell_type": "code",
      "execution_count": null,
      "metadata": {
        "colab": {
          "base_uri": "https://localhost:8080/"
        },
        "id": "CaunJ7j7sVHf",
        "outputId": "3b4ea998-c5da-4ac3-fcd9-7f4a6477b3d6"
      },
      "outputs": [
        {
          "name": "stdout",
          "output_type": "stream",
          "text": [
            "\n",
            "*\n",
            "**\n",
            "***\n",
            "****\n",
            "*****\n"
          ]
        }
      ],
      "source": [
        "!g++ samp.cpp\n",
        "!./a.out"
      ]
    },
    {
      "cell_type": "code",
      "execution_count": null,
      "metadata": {
        "colab": {
          "base_uri": "https://localhost:8080/"
        },
        "id": "QcSe-M9asZca",
        "outputId": "285b7b7d-e62c-4130-9f12-746b62828098"
      },
      "outputs": [
        {
          "name": "stdout",
          "output_type": "stream",
          "text": [
            "Overwriting samp.cpp\n"
          ]
        }
      ],
      "source": [
        "%%file samp.cpp\n",
        "#include <stdio.h>\n",
        "int main()\n",
        "{\n",
        "    int i,j;\n",
        "    for (i = 0; i<6; i++)\n",
        "    {\n",
        "        for (j = 0; j<6; j++)\n",
        "        {\n",
        "            printf(\"*  \");\n",
        "        }\n",
        "        printf(\"\\n\");\n",
        "    }\n",
        "\n",
        "}"
      ]
    },
    {
      "cell_type": "code",
      "execution_count": null,
      "metadata": {
        "colab": {
          "base_uri": "https://localhost:8080/"
        },
        "id": "8YFc0CXsP6Uk",
        "outputId": "6f7a142d-2354-4502-e08d-3ad94ec9119b"
      },
      "outputs": [
        {
          "name": "stdout",
          "output_type": "stream",
          "text": [
            "*  *  *  *  *  *  \n",
            "*  *  *  *  *  *  \n",
            "*  *  *  *  *  *  \n",
            "*  *  *  *  *  *  \n",
            "*  *  *  *  *  *  \n",
            "*  *  *  *  *  *  \n"
          ]
        }
      ],
      "source": [
        "!g++ samp.cpp\n",
        "!./a.out"
      ]
    },
    {
      "cell_type": "code",
      "execution_count": null,
      "metadata": {
        "colab": {
          "base_uri": "https://localhost:8080/"
        },
        "id": "qKy2q7npP9ri",
        "outputId": "1675deff-429b-4200-eb9e-dce98d586326"
      },
      "outputs": [
        {
          "name": "stdout",
          "output_type": "stream",
          "text": [
            "Overwriting samp.cpp\n"
          ]
        }
      ],
      "source": [
        "%%file samp.cpp\n",
        "#include <stdio.h>\n",
        "int main()\n",
        "{\n",
        "    int a[5] = {90, 10, 80, 20, 40}, key, temp, i, j;\n",
        "    for (i = 0; i<4; i++)\n",
        "    {\n",
        "        key = a[i];\n",
        "        for (j = i+1; j<=0; j--)\n",
        "        {\n",
        "            temp\n",
        "        }\n",
        "    }\n",
        "    for (i = 0; i<5; i++)\n",
        "    {\n",
        "        printf(\"%d\", a[i]);\n",
        "    }\n",
        "}"
      ]
    },
    {
      "cell_type": "code",
      "execution_count": null,
      "metadata": {
        "id": "vtbcgzPRKzKh"
      },
      "outputs": [],
      "source": [
        "!g++ samp.cpp\n",
        "!./a.out"
      ]
    },
    {
      "cell_type": "markdown",
      "metadata": {
        "id": "eFYpDHW2GBIh"
      },
      "source": [
        "key = a[i]\n",
        "temp;\n",
        "\n",
        "\n",
        "iteration 1:\n",
        "1. i = 1\n",
        "a[i] = 10\n",
        "2. j = 0\n",
        "a[j] = 90\n",
        "temp = 90\n",
        "\n",
        "\n",
        "iteration 2\n",
        "1. i = 2\n",
        "a[2] = 80\n",
        "a[j] = 90\n"
      ]
    },
    {
      "cell_type": "code",
      "execution_count": null,
      "metadata": {
        "colab": {
          "base_uri": "https://localhost:8080/"
        },
        "id": "TJ2fdaa09k_6",
        "outputId": "9dc1e78d-e1d2-44ef-f2b4-b0118d36ae2b"
      },
      "outputs": [
        {
          "name": "stdout",
          "output_type": "stream",
          "text": [
            "Overwriting samp.cpp\n"
          ]
        }
      ],
      "source": [
        "%%file samp.cpp\n",
        "#include <stdio.h>\n",
        "int main()\n",
        "{\n",
        "    int a[100], N, i, j, temp;\n",
        "    printf(\"Enter the number of elements of the array\");\n",
        "    scnaf(\"%d\", &N);\n",
        "    for (i = 0; i<N; i++)\n",
        "    {\n",
        "        printf(\"Enter the elements of the array\");\n",
        "        scanf(\"%d\", &a[i]);\n",
        "    }\n",
        "}"
      ]
    },
    {
      "cell_type": "code",
      "execution_count": null,
      "metadata": {
        "id": "-B6tCPWEHiw7"
      },
      "outputs": [],
      "source": []
    },
    {
      "cell_type": "code",
      "execution_count": null,
      "metadata": {
        "colab": {
          "base_uri": "https://localhost:8080/"
        },
        "id": "bKvV99iJAYPA",
        "outputId": "a41b7ff7-3171-4225-d3ab-4b015b5d5bb7"
      },
      "outputs": [
        {
          "name": "stdout",
          "output_type": "stream",
          "text": [
            "90 80 40 20 10 "
          ]
        }
      ],
      "source": [
        "\n",
        "!g++ samp.cpp\n",
        "!./a.out"
      ]
    },
    {
      "cell_type": "markdown",
      "metadata": {
        "id": "t2qHgj3b_bBm"
      },
      "source": [
        "a = 90, 10, 30, 40"
      ]
    },
    {
      "cell_type": "code",
      "execution_count": null,
      "metadata": {
        "colab": {
          "base_uri": "https://localhost:8080/"
        },
        "id": "-HJdF3ZN9kxL",
        "outputId": "756248cb-a5b3-47ca-873f-182d2649f2e8"
      },
      "outputs": [
        {
          "name": "stdout",
          "output_type": "stream",
          "text": [
            "Writing samp.cpp\n"
          ]
        }
      ],
      "source": [
        "%%file samp.cpp\n",
        "#include <stdio.h>\n",
        "#include <cstdlib>\n",
        "int heap(int x)\n",
        "{\n",
        "    int *ptr;\n",
        "    ptr = (int *)malloc(sizeof(x));\n",
        "    return *ptr;\n",
        "}\n",
        "int main()\n",
        "{\n",
        "    int x[4] = {10, 20},y;\n",
        "    y = heap(*x);\n",
        "    printf(\"%d\", y);\n",
        "}"
      ]
    },
    {
      "cell_type": "code",
      "execution_count": null,
      "metadata": {
        "colab": {
          "base_uri": "https://localhost:8080/"
        },
        "id": "IcUDd4ceMoM8",
        "outputId": "5fe06723-2c78-426b-e236-9de735d72107"
      },
      "outputs": [
        {
          "name": "stdout",
          "output_type": "stream",
          "text": [
            "0"
          ]
        }
      ],
      "source": [
        "\n",
        "!g++ samp.cpp\n",
        "!./a.out"
      ]
    },
    {
      "cell_type": "code",
      "execution_count": null,
      "metadata": {
        "colab": {
          "base_uri": "https://localhost:8080/"
        },
        "id": "WFtXwKBQMtyH",
        "outputId": "7e779808-0ad5-4230-bd92-731af8549e71"
      },
      "outputs": [
        {
          "name": "stdout",
          "output_type": "stream",
          "text": [
            "Writing samp.cpp\n"
          ]
        }
      ],
      "source": [
        "%%file samp.cpp\n",
        "#include <stdio.h>\n",
        "#include <stdlib.h>\n",
        "struct node{\n",
        "    int value;\n",
        "    struct node * next;\n",
        "};\n",
        "\n",
        "struct node * start  = NULL;\n",
        "\n",
        "struct node * create()\n",
        "{\n",
        "    struct node * temp;\n",
        "    temp = (struct node *)malloc(sizeof(struct node));\n",
        "    return temp;\n",
        "}\n",
        "\n",
        "void insert_start(int x){\n",
        "    struct node * new;\n",
        "    new = create();\n",
        "    new->value = x;\n",
        "    new->next = NULL;\n",
        "    if (start == NULL)\n",
        "    {\n",
        "        start = new;\n",
        "    }\n",
        "    else\n",
        "    {\n",
        "        new->next = start;\n",
        "        start = new;\n",
        "    }\n",
        "    display();\n",
        "}\n",
        "\n",
        "void insert_end(int x){\n",
        "    struct node *new, *temp;\n",
        "    new = create();\n",
        "    new->value = x;\n",
        "    new->next = NULL;\n",
        "    if (start = NULL)\n",
        "    {\n",
        "        start = new;\n",
        "    }\n",
        "    else\n",
        "     {\n",
        "        temp = start;\n",
        "        while(temp->next!=NULL)\n",
        "        {\n",
        "            temp = temp->next;\n",
        "        }\n",
        "        temp->next = new;\n",
        "    }\n",
        "    display();\n",
        "}\n",
        "\n",
        "void insert_middle(int x)\n",
        "{\n",
        "    struct node *new, *temp, *s;\n",
        "    int i, count = 0, mid;\n",
        "    new = create();\n",
        "    new->value = x;\n",
        "    start = temp;\n",
        "    while (temp->next!=NULL)\n",
        "    {\n",
        "        temp = temp->next;\n",
        "        count +=1;\n",
        "    }\n",
        "    mid = count/2;\n",
        "    temp = start;\n",
        "    for (i = 0; i<mid; i++)\n",
        "    {\n",
        "        s = temp;\n",
        "        temp = temp->next;\n",
        "    }\n",
        "    s->next = new;\n",
        "    new->next = temp;\n",
        "    display();\n",
        "}\n",
        "\n",
        "void delete_start()\n",
        "{\n",
        "    if (start != NULL)\n",
        "    {\n",
        "    start->next = start;\n",
        "    }\n",
        "    display();\n",
        "}\n",
        "\n",
        "void delete_end()\n",
        "{\n",
        "    struct node *temp, *s;\n",
        "    if (start == NULL)\n",
        "    {\n",
        "        ;\n",
        "    }\n",
        "    else\n",
        "    {\n",
        "        temp = start;\n",
        "        while(temp!= NULL)\n",
        "        {\n",
        "        s = temp;\n",
        "        temp = temp->next;\n",
        "        }\n",
        "        s->next = NULL;\n",
        "    }\n",
        "    display();\n",
        "}\n",
        "\n",
        "void delete_middle(){\n",
        "    struct node *temp, *s;\n",
        "    int count = 0; i, mid;\n",
        "    if (start == NULL)\n",
        "    {\n",
        "        ;\n",
        "    }\n",
        "    else\n",
        "    {\n",
        "        temp = start;\n",
        "        while(temp!=NULL)\n",
        "        {\n",
        "            temp = temp->next;\n",
        "            count +=1;\n",
        "        }\n",
        "        temp = start;\n",
        "        mid = count/2;\n",
        "        for (i = 0; i<mid; i++)\n",
        "        {\n",
        "            s = temp;\n",
        "            temp = temp->next;\n",
        "        }\n",
        "        s->next = temp->next;\n",
        "    }\n",
        "    display();\n",
        "}\n",
        "void display(){\n",
        "    struct node *temp;\n",
        "    if (start == NULL)\n",
        "    {\n",
        "        printf(\"No elements to print\");\n",
        "    }\n",
        "    else{\n",
        "        temp = start;\n",
        "        while (temp!=NULL)\n",
        "        {\n",
        "            printf(\"%d \", temp->value);\n",
        "            temp = temp->next;\n",
        "        }\n",
        "    }\n",
        "}\n",
        "int main()\n",
        "{\n",
        "    insert_start(5);\n",
        "    printf(\"\\n\");\n",
        "    insert_start(8);\n",
        "    printf(\"\\n\");\n",
        "    insert_end(34);\n",
        "    printf(\"\\n\");\n",
        "    insert_middle(15);\n",
        "    printf(\"\\n\");\n",
        "    delete_start();\n",
        "    printf(\"\\n\");\n",
        "    delete_end();\n",
        "    printf(\"\\n\");\n",
        "}"
      ]
    },
    {
      "cell_type": "code",
      "execution_count": null,
      "metadata": {
        "id": "4wjTanXAGEvv"
      },
      "outputs": [],
      "source": [
        "!g++ samp.cpp\n",
        "!./a.out"
      ]
    },
    {
      "cell_type": "code",
      "execution_count": null,
      "metadata": {
        "colab": {
          "base_uri": "https://localhost:8080/"
        },
        "id": "8rrHX6oeREXY",
        "outputId": "64de310f-7fd5-4668-e286-ef31a6b05ec1"
      },
      "outputs": [
        {
          "name": "stdout",
          "output_type": "stream",
          "text": [
            "Overwriting samp.cpp\n"
          ]
        }
      ],
      "source": [
        "%%file samp.cpp\n",
        "#include <stdio.h>\n",
        "int main(){\n",
        "    int a[100], i, j, N, temp, key;\n",
        "    printf(\"Enter the number of elements of the array\");\n",
        "    scanf(\"%d\", &N);\n",
        "    for (i = 0; i<N; i++)\n",
        "    {\n",
        "        printf(\"Enter the elements of the array\");\n",
        "        scanf(\"%d\", &a[i]);\n",
        "    }\n",
        "    for (i = 1; i<N; i++)\n",
        "    {\n",
        "        j = i - 1;\n",
        "        key = i;\n",
        "        while (j>=0 && a[j]>a[key])\n",
        "        {\n",
        "            temp = a[j];\n",
        "            a[j] = a[key];\n",
        "            a[key] = temp;\n",
        "            j--;\n",
        "            key--;\n",
        "        }\n",
        "    }\n",
        "    printf(\"The sorted array is \");\n",
        "    for (i = 0; i<N; i++)\n",
        "    {\n",
        "        printf(\"%d \", a[i]);\n",
        "    }\n",
        "\n",
        "}"
      ]
    },
    {
      "cell_type": "code",
      "execution_count": null,
      "metadata": {
        "colab": {
          "base_uri": "https://localhost:8080/"
        },
        "id": "nXDrNwCNZYha",
        "outputId": "ece94c65-7dda-4dac-b08b-5893c0e2cee7"
      },
      "outputs": [
        {
          "name": "stdout",
          "output_type": "stream",
          "text": [
            "Overwriting samp.cpp\n"
          ]
        }
      ],
      "source": [
        "%%file samp.cpp\n",
        "#include <stdio.h>\n",
        "int main()\n",
        "{\n",
        "    int a[10] = {90, 10, 80, 20, 50}, i , j, key, temp, k;\n",
        "    for (i = 1; i<5; i++)\n",
        "    {\n",
        "        key = i;\n",
        "        j = i - 1;\n",
        "        while (j>=0 && a[j]>a[key])\n",
        "        {\n",
        "               temp = a[j];\n",
        "               a[j] = a[key];\n",
        "               a[key] = temp;\n",
        "               key--;\n",
        "               j--;\n",
        "\n",
        "        }\n",
        "    }\n",
        "    for (k = 0; k<5; k++)\n",
        "              {\n",
        "                   printf(\"%d \", a[k]);\n",
        "                }\n",
        "                printf(\"\\n\");\n",
        "}"
      ]
    },
    {
      "cell_type": "code",
      "execution_count": null,
      "metadata": {
        "colab": {
          "base_uri": "https://localhost:8080/"
        },
        "id": "SMx4L0ydxhtC",
        "outputId": "bf301ed4-6657-42ad-eaa3-aa8b9c91bb5c"
      },
      "outputs": [
        {
          "name": "stdout",
          "output_type": "stream",
          "text": [
            "Enter the number of elements of the array5\n",
            "Enter the elements of the array9\n",
            "Enter the elements of the array1\n",
            "Enter the elements of the array8\n",
            "Enter the elements of the array2\n",
            "Enter the elements of the array4\n",
            "The sorted array is 1 2 4 8 9 "
          ]
        }
      ],
      "source": [
        "!g++ samp.cpp\n",
        "!./a.out"
      ]
    },
    {
      "cell_type": "code",
      "execution_count": null,
      "metadata": {
        "id": "qwugBMIDxnrs"
      },
      "outputs": [],
      "source": [
        "%%file samp.cpp\n",
        "#include <stdio.h>\n",
        "\n",
        "void linear_search()\n",
        "{\n",
        "    int i, n, a[100], flag = -1, search, pos;\n",
        "    printf(\"Enter the number of elements of the array\\n\");\n",
        "    scanf(\"%d\", &n);\n",
        "    for (i = 0; i<n; i++)\n",
        "    {\n",
        "        printf(\"Enter the elements of the array: \");\n",
        "        scanf(\"%d\", &a[i]);\n",
        "    }\n",
        "    printf(\"ENter search element\");\n",
        "    scanf(\"%d\", &search);\n",
        "    for (i = 0; i<n; i++)\n",
        "    {\n",
        "        if (a[i] == search)\n",
        "        {\n",
        "            flag = 1;\n",
        "            pos = i;\n",
        "            break;\n",
        "        }\n",
        "    }\n",
        "    if (flag == -1)\n",
        "    {\n",
        "         printf(\"Value not found\");\n",
        "    }\n",
        "    else\n",
        "    {\n",
        "        printf(\"value found at %d\", pos);\n",
        "    }\n",
        "}\n",
        "\n",
        "void binarysearch()\n",
        "{\n",
        "    int a[10], n, i, search, l, h, mid, flag = -1, pos;\n",
        "\n",
        "    printf(\"Enter the number of elements of the array\\n\");\n",
        "    scanf(\"%d\", &n);\n",
        "    for (i = 0; i<n; i++)\n",
        "    {\n",
        "        printf(\"Enter the elements of the array: \");\n",
        "        scanf(\"%d\", &a[i]);\n",
        "    }\n",
        "    printf(\"ENter search element\");\n",
        "    scanf(\"%d\", &search);\n",
        "\n",
        "    l = a[0];\n",
        "    h = a[n];\n",
        "    mid = (l+h)/2;\n",
        "\n",
        "    while (l<=h)\n",
        "    {\n",
        "        if (search>a[mid])\n",
        "        {\n",
        "            l = mid+1;\n",
        "            mid = (l+h)/2;\n",
        "        }\n",
        "        else if(search<a[mid])\n",
        "        {\n",
        "            h = mid-1;\n",
        "            mid = (l+h)/2;\n",
        "        }\n",
        "        else if(a[l] == search)\n",
        "        {\n",
        "            flag = 1;\n",
        "            break;\n",
        "        }\n",
        "    }\n",
        "     if (flag == -1)\n",
        "    {\n",
        "         printf(\"Value not found\");\n",
        "    }\n",
        "    else\n",
        "    {\n",
        "        printf(\"value found at %d\", pos);\n",
        "    }\n",
        "}\n",
        "\n",
        "void selection_sort()\n",
        "{\n",
        "    int a[100], N, i, j, smallest, temp;\n",
        "    printf(\"Enter the number of elements of the array: \");\n",
        "    scanf(\"%d\", &N);\n",
        "    for (i=0; i<N; i++)\n",
        "    {\n",
        "        printf(\"Enter the elements of the array: \");\n",
        "        scanf(\"%d\", &a[i]);\n",
        "    }\n",
        "    for (i=0; i<N-1; i++)\n",
        "    {\n",
        "        smallest = i;\n",
        "        for (j = i+1; j<N; j++)\n",
        "        {\n",
        "            if (a[j]<a[smallest])\n",
        "            {\n",
        "                smallest = j;\n",
        "            }\n",
        "        }\n",
        "        if (a[smallest] < a[i])\n",
        "        {\n",
        "            temp = a[i];\n",
        "            a[i] = a[smallest];\n",
        "            a[smallest] = temp;\n",
        "        }\n",
        "    }\n",
        "    printf(\"The above array after sorting: \");\n",
        "    for (i = 0; i<N; i++)\n",
        "    {\n",
        "        printf(\"%d \", a[i]);\n",
        "    }\n",
        "}\n",
        "\n",
        "void bubble_sort()\n",
        "{\n",
        "    int a[100], N, i, j, smallest, temp;\n",
        "    printf(\"Enter the number of elements of the array: \");\n",
        "    scanf(\"%d\", &N);\n",
        "    for (i=0; i<N; i++)\n",
        "    {\n",
        "        printf(\"Enter the elements of the array: \");\n",
        "        scanf(\"%d\", &a[i]);\n",
        "    }\n",
        "    for (i=0; i<N-1; i++)\n",
        "    {\n",
        "        for (j = i+1; j<N; j++)\n",
        "        {\n",
        "            if (a[j]<a[smallest])\n",
        "            {\n",
        "                temp = a[i];\n",
        "            a[i] = a[smallest];\n",
        "            a[smallest] = temp;\n",
        "            }\n",
        "        }\n",
        "    }\n",
        "    printf(\"The above array after sorting: \");\n",
        "    for (i = 0; i<N; i++)\n",
        "    {\n",
        "        printf(\"%d \", a[i]);\n",
        "    }\n",
        "}\n",
        "void insertion_sort()\n",
        "{\n",
        "    int a[100], i, j, N, temp, key;\n",
        "    printf(\"Enter the number of elements of the array\");\n",
        "    scanf(\"%d\", &N);\n",
        "    for (i = 0; i<N; i++)\n",
        "    {\n",
        "        printf(\"Enter the elements of the array\");\n",
        "        scanf(\"%d\", &a[i]);\n",
        "    }\n",
        "    for (i = 1; i<N; i++)\n",
        "    {\n",
        "        j = i - 1;\n",
        "        key = i;\n",
        "        while (j>=0 && a[j]>a[key])\n",
        "        {\n",
        "            temp = a[j];\n",
        "            a[j] = a[key];\n",
        "            a[key] = temp;\n",
        "            j--;\n",
        "            key--;\n",
        "        }\n",
        "    }\n",
        "    printf(\"The sorted array is \");\n",
        "    for (i = 0; i<N; i++)\n",
        "    {\n",
        "        printf(\"%d \", a[i]);\n",
        "    }\n",
        "}\n",
        "void mergeSort(int a, int l, int r)\n",
        "{\n",
        "    int a[100];\n",
        "    printf(\"Enter the number of elements of the array\");\n",
        "    scanf(\"%d\", &N);\n",
        "    for (i = 0; i<N; i++)\n",
        "    {\n",
        "        printf(\"Enter the elements of the array\");\n",
        "        scanf(\"%d\", &a[i]);\n",
        "    }\n",
        "    if (l < r) {\n",
        "\n",
        "        int m = l + (r - l) / 2;\n",
        "\n",
        "        mergeSort(arr, l, m);\n",
        "        mergeSort(arr, m + 1, r);\n",
        "        merge(arr, l, m, r);\n",
        "\n",
        "        printf(\"Sorted array is:\\n\");\n",
        "    for (int i = 0; i < n; i++) {\n",
        "        printf(\"%d \", arr[i]);\n",
        "    }\n",
        "    }\n",
        "}\n",
        "\n",
        "int main(){\n",
        "    int n;\n",
        "    printf(\"Enter 1 to perform linear search\\n\");\n",
        "    printf(\"Enter 2 to perform binary search\\n\");\n",
        "    printf(\"Enter 3 to perform selection sort\\n\");\n",
        "    printf(\"Enter 4 to perform bubble sort\\n\");\n",
        "    printf(\"Enter 5 to perform insertion sort\\n\");\n",
        "    printf(\"Enter 6 to perform merge sort\\n\");\n",
        "    printf(\"Enter 7 to perform quick sort\\n\");\n",
        "    printf(\"Enter a number: \");\n",
        "    scanf(\"%d\", &n);\n",
        "\n",
        "    if (n == 1)\n",
        "    {\n",
        "        linear_search();\n",
        "    }\n",
        "    else if (n ==2)\n",
        "    {\n",
        "       binary_search();\n",
        "    }\n",
        "    else if(n ==3)\n",
        "    {\n",
        "        selection_sort();\n",
        "    }\n",
        "    else if(n==4)\n",
        "    {\n",
        "        bubble_sort();\n",
        "    }\n",
        "    else if (n ==5)\n",
        "    {\n",
        "        insertion_sort();\n",
        "    }\n",
        "    else if(n==6)\n",
        "    {\n",
        "        merge_sort();\n",
        "    }\n",
        "    else if(n==7)\n",
        "    {\n",
        "        quick_sort();\n",
        "    }\n",
        "    return 0;\n",
        "}"
      ]
    },
    {
      "cell_type": "code",
      "execution_count": null,
      "metadata": {
        "id": "O1qnRSNEVHA-"
      },
      "outputs": [],
      "source": [
        "%%file samp.cpp\n",
        "#include <stdio.h>\n",
        "#include <stdlib.h>\n",
        "\n",
        "struct node{\n",
        "    int value;\n",
        "    struct node *next;\n",
        "}\n",
        "\n",
        "struct node *start = NULL;\n",
        "\n",
        "struct node *create()\n",
        "{\n",
        "    struct node *temp;\n",
        "    temp = (stuct node *) malloc (sizeof(struct node));\n",
        "    return temp;\n",
        "}\n",
        "\n",
        "void display(){\n",
        "    struct node *temp;\n",
        "\n",
        "}\n",
        "void insert_start(int x)\n",
        "{\n",
        "    struct node *new;\n",
        "    new = create();\n",
        "    new->value = x;\n",
        "    if (start == NULL)\n",
        "    {\n",
        "        start = new;\n",
        "    }\n",
        "    else\n",
        "    {\n",
        "        start->next = new;\n",
        "        new->next = start;\n",
        "        start = new;\n",
        "    }\n",
        "    display();\n",
        "}\n",
        "\n",
        "void insert_end(int x)\n",
        "{\n",
        "    struct\n",
        "}"
      ]
    },
    {
      "cell_type": "code",
      "execution_count": null,
      "metadata": {
        "id": "mADVsT72WfTx"
      },
      "outputs": [],
      "source": [
        "%%file samp.cpp\n",
        "#include <stdio.h>\n",
        "#include <stdlib.h>\n",
        "struct l1{\n",
        "    int value1;\n",
        "    struct l1 *next1;\n",
        "}\n",
        "struct l1 * start = NULL;\n",
        "struct l1 * create(){\n",
        "    struct l1* temp;\n",
        "    temp = (struct l1*)malloc(sizeof(struct l1))l\n",
        "    return 0;\n",
        "}\n",
        "void insert_end(){\n",
        "    struct l1 * new1, *temp1;\n",
        "    new = create();\n",
        "    new->value = x;\n",
        "    new->next = NULL;\n",
        "    if (start == NULL)\n",
        "    {\n",
        "        start = new;\n",
        "    }\n",
        "    else\n",
        "    {\n",
        "        temp1 = star\n",
        "    }\n",
        "}"
      ]
    },
    {
      "cell_type": "code",
      "execution_count": null,
      "metadata": {
        "colab": {
          "base_uri": "https://localhost:8080/"
        },
        "id": "T5pkinl8wHTm",
        "outputId": "f2545aa8-eb3c-4913-f121-372f3ef63526"
      },
      "outputs": [
        {
          "name": "stdout",
          "output_type": "stream",
          "text": [
            "Overwriting samp.cpp\n"
          ]
        }
      ],
      "source": [
        "%%file samp.cpp\n",
        "#include <stdio.h>\n",
        "int main()\n",
        "{\n",
        "    int i, j, k, n = 5, t = ;\n",
        "    for(i = 0; i<(n*2)-1; i++)\n",
        "    {\n",
        "        for(j = 0; j<(n*2)-1; j++)\n",
        "        {\n",
        "            printf(\"%d \", n);\n",
        "        }\n",
        "        printf(\"\\n\");\n",
        "    }\n",
        "}"
      ]
    },
    {
      "cell_type": "code",
      "execution_count": null,
      "metadata": {
        "colab": {
          "base_uri": "https://localhost:8080/"
        },
        "id": "zIIvjIiR_8In",
        "outputId": "b47d09ee-14e3-455f-b973-52576d8f41a5"
      },
      "outputs": [
        {
          "name": "stdout",
          "output_type": "stream",
          "text": [
            "5 5 5 5 5 5 5 5 5 \n",
            "5 5 5 5 5 5 5 5 5 \n",
            "5 5 5 5 5 5 5 5 5 \n",
            "5 5 5 5 5 5 5 5 5 \n",
            "5 5 5 5 5 5 5 5 5 \n",
            "5 5 5 5 5 5 5 5 5 \n",
            "5 5 5 5 5 5 5 5 5 \n",
            "5 5 5 5 5 5 5 5 5 \n",
            "5 5 5 5 5 5 5 5 5 \n"
          ]
        }
      ],
      "source": [
        "!g++ samp.cpp\n",
        "!./a.out"
      ]
    },
    {
      "cell_type": "code",
      "execution_count": null,
      "metadata": {
        "colab": {
          "base_uri": "https://localhost:8080/"
        },
        "id": "OQ5LNxL5AALY",
        "outputId": "5bde2fbd-e7f9-4484-d69d-2df87c0b9c3c"
      },
      "outputs": [
        {
          "output_type": "stream",
          "name": "stdout",
          "text": [
            "Overwriting samp.cpp\n"
          ]
        }
      ],
      "source": [
        "%%file samp.cpp\n",
        "#include <stdio.h>\n",
        "int main(){\n",
        "    int i, j;\n",
        "    int n = 10;\n",
        "    for(i = 0; i<5; i++)\n",
        "    {\n",
        "        for(j = 5; j>i; j--)\n",
        "        {\n",
        "            printf(\"%d \", n);\n",
        "            n--;\n",
        "        }\n",
        "        printf(\"\\n\");\n",
        "    }\n",
        "}"
      ]
    },
    {
      "cell_type": "code",
      "execution_count": null,
      "metadata": {
        "colab": {
          "base_uri": "https://localhost:8080/"
        },
        "id": "ue-tdob_5ttE",
        "outputId": "7f3d278c-5843-4b4c-d031-572f1c3960a0"
      },
      "outputs": [
        {
          "output_type": "stream",
          "name": "stdout",
          "text": [
            "10 9 8 7 6 \n",
            "5 4 3 2 \n",
            "1 0 -1 \n",
            "-2 -3 \n",
            "-4 \n"
          ]
        }
      ],
      "source": [
        "!g++ samp.cpp\n",
        "!./a.out"
      ]
    },
    {
      "cell_type": "code",
      "execution_count": null,
      "metadata": {
        "id": "5U8CIDq05whG"
      },
      "outputs": [],
      "source": []
    }
  ],
  "metadata": {
    "colab": {
      "provenance": [],
      "toc_visible": true,
      "authorship_tag": "ABX9TyP/jSnGGCpusIhH4oGzIzj4",
      "include_colab_link": true
    },
    "kernelspec": {
      "display_name": "Python 3",
      "name": "python3"
    },
    "language_info": {
      "name": "python"
    }
  },
  "nbformat": 4,
  "nbformat_minor": 0
}