{
  "nbformat": 4,
  "nbformat_minor": 0,
  "metadata": {
    "colab": {
      "provenance": [],
      "authorship_tag": "ABX9TyPscHDncOleGKQvCyiQy7p4",
      "include_colab_link": true
    },
    "kernelspec": {
      "name": "python3",
      "display_name": "Python 3"
    },
    "language_info": {
      "name": "python"
    }
  },
  "cells": [
    {
      "cell_type": "markdown",
      "metadata": {
        "id": "view-in-github",
        "colab_type": "text"
      },
      "source": [
        "<a href=\"https://colab.research.google.com/github/ktb3504/Software-engineering-lab/blob/main/weather_prediction_model.ipynb\" target=\"_parent\"><img src=\"https://colab.research.google.com/assets/colab-badge.svg\" alt=\"Open In Colab\"/></a>"
      ]
    },
    {
      "cell_type": "code",
      "source": [
        "\n",
        "with open('weather_input.txt', 'r') as file:\n",
        "    weather_data = file.readlines()\n",
        "\n",
        "for record in weather_data:\n",
        "    temp, humidity, wind_speed = (float(value) for value in record.strip().split())\n",
        "\n",
        "\n",
        "    weather_value = 0.5 * (temp ** 2) - 0.2 * humidity + 0.1 * wind_speed - 15\n",
        "\n",
        "\n",
        "    if weather_value > 10:\n",
        "        condition = \"Sunny\"\n",
        "    elif 0 <= weather_value <= 10:\n",
        "        condition = \"Windy\"\n",
        "    elif -10 <= weather_value < 0:\n",
        "        condition = \"Cloudy\"\n",
        "    else:\n",
        "        condition = \"Rainy\"\n",
        "\n",
        "\n",
        "    print(f\"Temperature: {temp}, Humidity: {humidity}, Wind Speed: {wind_speed} \\nThus, the weather is {condition}\")\n"
      ],
      "metadata": {
        "colab": {
          "base_uri": "https://localhost:8080/"
        },
        "id": "JrbsjWj_fq5s",
        "outputId": "551de0e4-a0c9-4c89-b6f1-c898522e495a"
      },
      "execution_count": 4,
      "outputs": [
        {
          "output_type": "stream",
          "name": "stdout",
          "text": [
            "Temperature: 25.0, Humidity: 60.0, Wind Speed: 10.0 \n",
            "Thus, the weather is Sunny\n",
            "Temperature: 30.0, Humidity: 70.0, Wind Speed: 15.0 \n",
            "Thus, the weather is Sunny\n",
            "Temperature: 20.0, Humidity: 50.0, Wind Speed: 5.0 \n",
            "Thus, the weather is Sunny\n"
          ]
        }
      ]
    },
    {
      "cell_type": "code",
      "source": [
        "t = int(input(\"Enter Temperature: \"))\n",
        "h = int(input(\"Enter Humidity: \"))\n",
        "wind = int(input(\"Enter Wind Speed: \"))\n",
        "\n",
        "w = 0.5 * (t ** 2) - (0.2 * h) + (0.1 * wind) - 15\n",
        "\n",
        "if w > 10:\n",
        "    condition = \"Sunny\"\n",
        "elif 0 <= w <= 10:\n",
        "    condition = \"Windy\"\n",
        "elif -10 <= w < 0:\n",
        "    condition = \"Cloudy\"\n",
        "else:\n",
        "    condition = \"Rainy\"\n",
        "\n",
        "print(f\"Temperature: {t}, Humidity: {h}, Wind Speed: {wind} \\nThus, the weather is {condition}\")"
      ],
      "metadata": {
        "id": "QLpz6WGnn2MF"
      },
      "execution_count": null,
      "outputs": []
    }
  ]
}