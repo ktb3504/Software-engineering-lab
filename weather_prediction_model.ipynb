{
  "nbformat": 4,
  "nbformat_minor": 0,
  "metadata": {
    "colab": {
      "provenance": [],
      "authorship_tag": "ABX9TyNOJKcqf08nnHSPEKqut+Zh",
      "include_colab_link": true
    },
    "kernelspec": {
      "name": "python3",
      "display_name": "Python 3"
    },
    "language_info": {
      "name": "python"
    }
  },
  "cells": [
    {
      "cell_type": "markdown",
      "metadata": {
        "id": "view-in-github",
        "colab_type": "text"
      },
      "source": [
        "<a href=\"https://colab.research.google.com/github/ktb3504/Software-engineering-lab/blob/main/weather_prediction_model.ipynb\" target=\"_parent\"><img src=\"https://colab.research.google.com/assets/colab-badge.svg\" alt=\"Open In Colab\"/></a>"
      ]
    },
    {
      "cell_type": "code",
      "source": [
        "\n",
        "with open('weather_input.txt', 'r') as file:\n",
        "    weather_data = file.readlines()\n",
        "\n",
        "for record in weather_data:\n",
        "    temp, humidity, wind_speed = (float(value) for value in record.strip().split())\n",
        "\n",
        "\n",
        "    weather_value = 0.5 * (temp ** 2) - 0.2 * humidity + 0.1 * wind_speed - 15\n",
        "\n",
        "\n",
        "    if weather_value > 10:\n",
        "        condition = \"Sunny\"\n",
        "    elif 0 <= weather_value <= 10:\n",
        "        condition = \"Windy\"\n",
        "    elif -10 <= weather_value < 0:\n",
        "        condition = \"Cloudy\"\n",
        "    else:\n",
        "        condition = \"Rainy\"\n",
        "\n",
        "\n",
        "    print(f\"Temperature: {temp}, Humidity: {humidity}, Wind Speed: {wind_speed} \\nThus, the weather is {condition}\")\n"
      ],
      "metadata": {
        "colab": {
          "base_uri": "https://localhost:8080/"
        },
        "id": "JrbsjWj_fq5s",
        "outputId": "a2cc5641-a47c-4b8d-a21d-ed8021f8dfa4"
      },
      "execution_count": 7,
      "outputs": [
        {
          "output_type": "stream",
          "name": "stdout",
          "text": [
            "Temperature: 25.0, Humidity: 60.0, Wind Speed: 10.0 \n",
            "Thus, the weather is Sunny\n"
          ]
        }
      ]
    },
    {
      "cell_type": "code",
      "source": [
        "t = int(input(\"Enter Temperature: \"))\n",
        "h = int(input(\"Enter Humidity: \"))\n",
        "wind = int(input(\"Enter Wind Speed: \"))\n",
        "\n",
        "w = 0.5 * (t ** 2) - (0.2 * h) + (0.1 * wind) - 15\n",
        "\n",
        "if w > 10:\n",
        "    condition = \"Sunny\"\n",
        "elif 0 <= w <= 10:\n",
        "    condition = \"Windy\"\n",
        "elif -10 <= w < 0:\n",
        "    condition = \"Cloudy\"\n",
        "else:\n",
        "    condition = \"Rainy\"\n",
        "\n",
        "print(f\"Temperature: {t}, Humidity: {h}, Wind Speed: {wind} \\nThus, the weather is {condition}\")"
      ],
      "metadata": {
        "colab": {
          "base_uri": "https://localhost:8080/"
        },
        "id": "QLpz6WGnn2MF",
        "outputId": "f7c72d32-f314-45c6-986e-c13d7fdfc77c"
      },
      "execution_count": 5,
      "outputs": [
        {
          "output_type": "stream",
          "name": "stdout",
          "text": [
            "Enter Temperature: -12\n",
            "Enter Humidity: 10\n",
            "Enter Wind Speed: 4\n",
            "Temperature: -12, Humidity: 10, Wind Speed: 4 \n",
            "Thus, the weather is Sunny\n"
          ]
        }
      ]
    },
    {
      "cell_type": "code",
      "source": [
        "t = 10\n",
        "h = 32\n",
        "wind =23\n",
        "w = 0.5 * (t ** 2) - (0.2 * h) + (0.1 * wind) - 15\n",
        "if w > 10:\n",
        "    print(\"Sunny\")\n",
        "elif 0 <= w <= 10:\n",
        "    print(\"Windy\")\n",
        "elif -10 <= w < 0:\n",
        "    print(\"Cloud\")\n",
        "elif w < -10:\n",
        "    print(\"Rainy\")"
      ],
      "metadata": {
        "colab": {
          "base_uri": "https://localhost:8080/"
        },
        "id": "zJDWhALSopc5",
        "outputId": "e60070c4-a876-44fd-ea35-a8e8d1e86b95"
      },
      "execution_count": 6,
      "outputs": [
        {
          "output_type": "stream",
          "name": "stdout",
          "text": [
            "Sunny\n"
          ]
        }
      ]
    },
    {
      "cell_type": "code",
      "source": [
        "with open('weather_input.txt', 'r') as file:\n",
        "    lines = file.readlines()\n",
        "for line in lines:\n",
        "    data = line.split()\n",
        "    t = int(data[0])\n",
        "    h = int(data[1])\n",
        "    wind = int(data[2])\n",
        "    w = 0.5 * (t ** 2) - (0.2 * h) + (0.1 * wind) - 15\n",
        "    if w > 10:\n",
        "        print(\"Weather is Sunny\")\n",
        "    elif 0 <= w <= 10:\n",
        "        print(\"Weather is Windy\")\n",
        "    elif -10 <= w < 0:\n",
        "        print(\"Weather is Cloud\")\n",
        "    elif w < -10:\n",
        "        print(\"Weather is Rainy\")"
      ],
      "metadata": {
        "colab": {
          "base_uri": "https://localhost:8080/"
        },
        "id": "-7HdHsE7ox1c",
        "outputId": "f5249920-af99-47eb-ce08-acf44b16aeec"
      },
      "execution_count": 10,
      "outputs": [
        {
          "output_type": "stream",
          "name": "stdout",
          "text": [
            "Weather is Sunny\n",
            "Weather is Sunny\n",
            "Weather is Sunny\n"
          ]
        }
      ]
    },
    {
      "cell_type": "code",
      "source": [],
      "metadata": {
        "id": "V6K5d6IMpJeK"
      },
      "execution_count": null,
      "outputs": []
    }
  ]
}